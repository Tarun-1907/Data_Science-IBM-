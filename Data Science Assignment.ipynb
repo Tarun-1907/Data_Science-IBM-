{
 "cells": [
  {
   "cell_type": "markdown",
   "id": "68a7d923",
   "metadata": {},
   "source": [
    "Peer-graded Assignment"
   ]
  },
  {
   "cell_type": "markdown",
   "id": "c5a8cf2d",
   "metadata": {},
   "source": [
    "Introduction:\n",
    "\n",
    "Data science is a vast and exciting field that combines various disciplines to extract knowledge and insights from data.\n",
    "\n",
    "Imagine a world overflowing with information –  from social media posts and financial records to scientific measurements and customer transactions. Data science equips you with the tools and techniques to unlock the hidden patterns, trends, and relationships within this data. It's a multidisciplinary field that blends:\n",
    "\n",
    "Statistics: Provides the foundation for analyzing data, using methods like hypothesis testing and regression to understand relationships between variables.\n",
    "Mathematics: Offers the algorithms and models needed to process and interpret large datasets. Linear algebra, calculus, and probability are key areas.\n",
    "Computer Science: Enables you to store, manage, and manipulate data efficiently. Programming languages like Python and R are essential tools.\n",
    "Domain Expertise: Understanding the specific field where the data originates (e.g., finance, healthcare, marketing) helps interpret the findings accurately."
   ]
  },
  {
   "cell_type": "markdown",
   "id": "3cddd389",
   "metadata": {},
   "source": [
    "Data Science languages:\n",
    "-> Python \n",
    "-> R programming\n",
    "-> SQL"
   ]
  },
  {
   "cell_type": "markdown",
   "id": "7ac35b72",
   "metadata": {},
   "source": [
    "Data Science libraries:\n",
    "-> Seaborn\n",
    "-> Matplotlib\n",
    "-> Numpy \n",
    "-> Pandas\n",
    "-> TensorFlow\n",
    "-> Pytorch"
   ]
  },
  {
   "cell_type": "markdown",
   "id": "2ea5b5f3",
   "metadata": {},
   "source": [
    "Data Science tools:\n",
    "-> Jupyter notebook\n",
    "-> Tabelau\n",
    "-> Excel\n",
    "-> Power Bi"
   ]
  },
  {
   "cell_type": "markdown",
   "id": "f75ddd68",
   "metadata": {},
   "source": [
    "Arithmatic expressions:\n",
    "+ -> Addition\n",
    "- -> Substraction\n",
    "* -> Multiplication\n",
    "/ -> Diision\n",
    "% -> Modulo"
   ]
  },
  {
   "cell_type": "code",
   "execution_count": 1,
   "id": "7e95ecef",
   "metadata": {},
   "outputs": [
    {
     "name": "stdout",
     "output_type": "stream",
     "text": [
      "72\n",
      "17\n"
     ]
    }
   ],
   "source": [
    "print(8*9)\n",
    "print(8+9)"
   ]
  },
  {
   "cell_type": "code",
   "execution_count": 3,
   "id": "bb473619",
   "metadata": {},
   "outputs": [
    {
     "name": "stdout",
     "output_type": "stream",
     "text": [
      "2\n"
     ]
    }
   ],
   "source": [
    "minutes=120\n",
    "hours=minutes//60\n",
    "print(hours)"
   ]
  },
  {
   "cell_type": "markdown",
   "id": "debef9bc",
   "metadata": {},
   "source": [
    "Objectives of data Science:\n",
    "-> Extract insights\n",
    "-> Predictive modelling\n",
    "-> Make decision Driven Decisions\n",
    "-> Optimization\n",
    "-> Risk management\n",
    "-> Automate processes\n",
    "-> Customer segmentation"
   ]
  },
  {
   "cell_type": "markdown",
   "id": "9a3ae107",
   "metadata": {},
   "source": [
    "Author's:\n",
    "\n",
    "Aije Egwaikhide, Senior Data Scientist,IBM\n",
    "\n",
    "Svetlana Levitan, Senior Developer Advocate with IBM Center for Open Data and AI Technologies\n",
    "\n",
    "Romeo Kienzler, Chief Data Scientist, Course Lead,IBM Watson IoT"
   ]
  }
 ],
 "metadata": {
  "kernelspec": {
   "display_name": "Python 3 (ipykernel)",
   "language": "python",
   "name": "python3"
  },
  "language_info": {
   "codemirror_mode": {
    "name": "ipython",
    "version": 3
   },
   "file_extension": ".py",
   "mimetype": "text/x-python",
   "name": "python",
   "nbconvert_exporter": "python",
   "pygments_lexer": "ipython3",
   "version": "3.9.13"
  }
 },
 "nbformat": 4,
 "nbformat_minor": 5
}
